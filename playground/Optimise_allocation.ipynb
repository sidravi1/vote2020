{
 "cells": [
  {
   "cell_type": "code",
   "execution_count": null,
   "metadata": {},
   "outputs": [],
   "source": [
    "%load_ext autoreload\n",
    "%autoreload 2"
   ]
  },
  {
   "cell_type": "code",
   "execution_count": null,
   "metadata": {},
   "outputs": [],
   "source": [
    "import pandas as pd\n",
    "import numpy as np\n",
    "import networkx as nx\n",
    "import matplotlib.pyplot as plt"
   ]
  },
  {
   "cell_type": "code",
   "execution_count": null,
   "metadata": {},
   "outputs": [],
   "source": [
    "import sys\n",
    "sys.path = [\"..\"] + sys.path"
   ]
  },
  {
   "cell_type": "code",
   "execution_count": null,
   "metadata": {},
   "outputs": [],
   "source": [
    "import src.optimal_assignment as oa\n",
    "import src.basic_assignment as ba"
   ]
  },
  {
   "cell_type": "markdown",
   "metadata": {},
   "source": [
    "## Get distance between zipcodes"
   ]
  },
  {
   "cell_type": "code",
   "execution_count": null,
   "metadata": {},
   "outputs": [],
   "source": [
    "observers = ba.get_observer_dataset()\n",
    "precinct = ba.get_precinct_dataset()\n",
    "precinct, observers = ba.run_ordered_assignment(precinct, observers)"
   ]
  },
  {
   "cell_type": "code",
   "execution_count": null,
   "metadata": {},
   "outputs": [],
   "source": [
    "mask = (precinct[\"outside_am_legal\"] == True) & (\n",
    "    precinct[\"outside_am_observer\"] != precinct[\"outside_pm_observer\"]\n",
    ")\n",
    "precinct_subset = precinct[mask]"
   ]
  },
  {
   "cell_type": "code",
   "execution_count": null,
   "metadata": {},
   "outputs": [],
   "source": [
    "column_to_optimise = \"outside_am_observer\"\n",
    "\n",
    "merged_df = precinct_subset.merge(\n",
    "    observers[[\"name\", \"post_code\"]], left_on=column_to_optimise, right_on=\"name\"\n",
    ")\n",
    "precinct_list = merged_df[[\"Polling Place Name\", \"Zip\"]]\n",
    "observer_list = merged_df[[column_to_optimise, \"post_code\"]]\n",
    "distance = np.abs(\n",
    "    precinct_list.Zip.values[np.newaxis, :]\n",
    "    - observer_list.post_code.values[:, np.newaxis]\n",
    ")\n",
    "distance_df = pd.DataFrame(\n",
    "    distance,\n",
    "    index=observer_list[column_to_optimise],\n",
    "    columns=precinct_list[\"Polling Place Name\"],\n",
    ")\n",
    "\n",
    "merged_df[\"current_distance\"] = np.abs(merged_df[\"Zip\"] - merged_df[\"post_code\"])"
   ]
  },
  {
   "cell_type": "code",
   "execution_count": null,
   "metadata": {},
   "outputs": [],
   "source": [
    "matched_set = oa.get_matched_sets(distance_df, merged_df, column_to_optimise, verbose=False)"
   ]
  },
  {
   "cell_type": "code",
   "execution_count": null,
   "metadata": {},
   "outputs": [],
   "source": [
    "df = pd.DataFrame([matched_set], index=[\"pollingstation\"]).T.reset_index()\n",
    "df.columns = [column_to_optimise, \"pollingstation\"]\n",
    "out = precinct[[\"Pct\", \"Polling Place Name\"]].merge(\n",
    "    df, left_on=\"Polling Place Name\", right_on=\"pollingstation\"\n",
    ").drop(\"pollingstation\", axis=1)"
   ]
  },
  {
   "cell_type": "code",
   "execution_count": null,
   "metadata": {},
   "outputs": [],
   "source": [
    "precinct.loc[mask, \"outside_am_observer\"] = out['outside_am_observer'].values"
   ]
  }
 ],
 "metadata": {
  "kernelspec": {
   "display_name": "Python 3",
   "language": "python",
   "name": "python3"
  },
  "language_info": {
   "codemirror_mode": {
    "name": "ipython",
    "version": 3
   },
   "file_extension": ".py",
   "mimetype": "text/x-python",
   "name": "python",
   "nbconvert_exporter": "python",
   "pygments_lexer": "ipython3",
   "version": "3.7.9"
  }
 },
 "nbformat": 4,
 "nbformat_minor": 4
}
